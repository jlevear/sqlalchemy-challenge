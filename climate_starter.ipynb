{
 "cells": [
  {
   "cell_type": "code",
   "execution_count": 1,
   "metadata": {},
   "outputs": [],
   "source": [
    "%matplotlib inline\n",
    "from matplotlib import style\n",
    "style.use('fivethirtyeight')\n",
    "import matplotlib.pyplot as plt"
   ]
  },
  {
   "cell_type": "code",
   "execution_count": 2,
   "metadata": {},
   "outputs": [],
   "source": [
    "import numpy as np\n",
    "import pandas as pd"
   ]
  },
  {
   "cell_type": "code",
   "execution_count": 3,
   "metadata": {},
   "outputs": [],
   "source": [
    "import datetime as dt\n",
    "from datetime import timedelta"
   ]
  },
  {
   "cell_type": "markdown",
   "metadata": {},
   "source": [
    "# Reflect Tables into SQLAlchemy ORM"
   ]
  },
  {
   "cell_type": "code",
   "execution_count": 4,
   "metadata": {},
   "outputs": [],
   "source": [
    "# Python SQL toolkit and Object Relational Mapper\n",
    "import sqlalchemy\n",
    "from sqlalchemy.ext.automap import automap_base\n",
    "from sqlalchemy.orm import Session\n",
    "from sqlalchemy import create_engine, func"
   ]
  },
  {
   "cell_type": "code",
   "execution_count": 5,
   "metadata": {},
   "outputs": [],
   "source": [
    "engine = create_engine(\"sqlite:///Resources/hawaii.sqlite\")"
   ]
  },
  {
   "cell_type": "code",
   "execution_count": 6,
   "metadata": {},
   "outputs": [],
   "source": [
    "# reflect an existing database into a new model\n",
    "Base = automap_base()\n",
    "\n",
    "# reflect the tables\n",
    "Base.prepare(engine, reflect=True)"
   ]
  },
  {
   "cell_type": "code",
   "execution_count": 7,
   "metadata": {},
   "outputs": [
    {
     "data": {
      "text/plain": [
       "['measurement', 'station']"
      ]
     },
     "execution_count": 7,
     "metadata": {},
     "output_type": "execute_result"
    }
   ],
   "source": [
    "# We can view all of the classes that automap found\n",
    "Base.classes.keys()"
   ]
  },
  {
   "cell_type": "code",
   "execution_count": 8,
   "metadata": {},
   "outputs": [],
   "source": [
    "# Save references to each table\n",
    "Measurement = Base.classes.measurement\n",
    "Station = Base.classes.station"
   ]
  },
  {
   "cell_type": "code",
   "execution_count": 9,
   "metadata": {},
   "outputs": [],
   "source": [
    "# Create our session (link) from Python to the DB\n",
    "session = Session(engine)"
   ]
  },
  {
   "cell_type": "markdown",
   "metadata": {},
   "source": [
    "# Exploratory Climate Analysis"
   ]
  },
  {
   "cell_type": "code",
   "execution_count": 10,
   "metadata": {},
   "outputs": [
    {
     "data": {
      "text/plain": [
       "Text(0, 0.5, 'Inches')"
      ]
     },
     "execution_count": 10,
     "metadata": {},
     "output_type": "execute_result"
    },
    {
     "data": {
      "image/png": "[encoded data removed]",
      "text/plain": [
       "<Figure size 432x288 with 1 Axes>"
      ]
     },
     "metadata": {},
     "output_type": "display_data"
    }
   ],
   "source": [
    "# Design a query to retrieve the last 12 months of precipitation data and plot the results\n",
    "\n",
    "# Create query to retrieve all measurement dates\n",
    "dates = session.query(Measurement.date).all()\n",
    "\n",
    "# Create loop to format strings as parsed dates\n",
    "parsed_dates = []\n",
    "\n",
    "for date in dates:\n",
    "    temp = str(date)\n",
    "    temp = temp.replace('(', '')\n",
    "    temp = temp.replace(')', '')\n",
    "    temp = temp.replace(',', '')\n",
    "    temp = temp.replace(\"'\", '')\n",
    "    parsed_date = dt.datetime.strptime(temp, '%Y-%m-%d')\n",
    "    parsed_dates.append(parsed_date)\n",
    "\n",
    "# Calculate date 1 year ago from the last data point in the database\n",
    "max_date = max(parsed_dates)\n",
    "min_date = max_date - timedelta(days=365)\n",
    "\n",
    "# Create loop to filter dates to only 1 year ago\n",
    "filtered_dates = []\n",
    "\n",
    "for parsed_date in parsed_dates:\n",
    "    if (parsed_date <= max_date) and (parsed_date >= min_date):\n",
    "        filtered_dates.append(parsed_date)\n",
    "\n",
    "# Create query to retrieve all precipitation scores\n",
    "prcps = session.query(Measurement.prcp).all()\n",
    "\n",
    "# Create loop to format strings as parsed prcps\n",
    "parsed_prcps = []\n",
    "\n",
    "for prcp in prcps:\n",
    "    temp = str(prcp)\n",
    "    temp = temp.replace('(', '')\n",
    "    temp = temp.replace(')', '')\n",
    "    temp = temp.replace(',', '')\n",
    "    temp = temp.replace('None', '')\n",
    "    parsed_prcps.append(temp)\n",
    "\n",
    "# Create dataframe from parsed lists\n",
    "measurement_df = pd.DataFrame({'Date': parsed_dates, 'Prcp': parsed_prcps})\n",
    "measurement_df\n",
    "\n",
    "# Filter dataframe to dates to only 1 year ago\n",
    "date_filter = measurement_df['Date'] >= min_date\n",
    "filtered_dates_df = measurement_df[date_filter]\n",
    "\n",
    "# Filter dataframe to eliminate blank prcp entries\n",
    "prcp_filter = filtered_dates_df['Prcp'] != ''\n",
    "filtered_prcp_df = filtered_dates_df[prcp_filter]\n",
    "\n",
    "# Separate columns before creating a new dataframe\n",
    "final_dates = filtered_prcp_df['Date']\n",
    "final_dates\n",
    "\n",
    "# Convert prcp to float (user: SilentGhost)\n",
    "# (url: https://stackoverflow.com/questions/1614236/in-python-how-do-i-convert-all-of-the-items-in-a-list-to-floats)\n",
    "final_prcps = [float(i) for i in filtered_prcp_df['Prcp']]\n",
    "final_prcps\n",
    "\n",
    "# Create dataframe with filters applied\n",
    "final_df = pd.DataFrame({'Date': final_dates, 'Precipitation': final_prcps})\n",
    "final_df\n",
    "\n",
    "# Use Pandas Plotting with Matplotlib to plot the data\n",
    "graph = final_df.plot(x='Date', y='Precipitation')\n",
    "graph.set_xlabel('Date')\n",
    "graph.set_ylabel('Inches')"
   ]
  },
  {
   "cell_type": "code",
   "execution_count": 11,
   "metadata": {},
   "outputs": [
    {
     "name": "stdout",
     "output_type": "stream",
     "text": [
      "The mean is: 0.17727857496288968\n",
      "The median is: 0.02\n",
      "The mode is: 0    0.0\n",
      "dtype: float64\n"
     ]
    }
   ],
   "source": [
    "# Use Pandas to calcualte the summary statistics for the precipitation data\n",
    "\n",
    "# Find mean, median and mode and display results\n",
    "mean = final_df['Precipitation'].mean()\n",
    "print(f'The mean is: {mean}')\n",
    "\n",
    "median = final_df['Precipitation'].median()\n",
    "print(f'The median is: {median}')\n",
    "\n",
    "mode = final_df['Precipitation'].mode()\n",
    "print(f'The mode is: {mode}')"
   ]
  },
  {
   "cell_type": "code",
   "execution_count": 12,
   "metadata": {},
   "outputs": [
    {
     "name": "stdout",
     "output_type": "stream",
     "text": [
      "There are 9 stations available in this dataset\n"
     ]
    }
   ],
   "source": [
    "# Design a query to show how many stations are available in this dataset?\n",
    "\n",
    "# Join the two tables on station\n",
    "sel = [Station.name, Measurement.station, Measurement.date, Measurement.tobs]\n",
    "same_station = session.query(*sel).filter(Measurement.station == Station.station).all()\n",
    "\n",
    "# Create a dataframe that includes station name\n",
    "station_df = pd.DataFrame(same_station, columns=['Name', 'Station', 'Date', 'Tobs']).reset_index()\n",
    "\n",
    "# Group the dataframe by station to get unique count\n",
    "unique_stations = station_df.groupby('Station').nunique().rename_axis('Station Key').reset_index()\n",
    "\n",
    "# Find unique count of stations\n",
    "stations = len(unique_stations['Station Key'])\n",
    "\n",
    "# Print finding\n",
    "print(f'There are {stations} stations available in this dataset')"
   ]
  },
  {
   "cell_type": "code",
   "execution_count": 13,
   "metadata": {},
   "outputs": [
    {
     "data": {
      "text/html": [
       "<div>\n",
       "<style scoped>\n",
       "    .dataframe tbody tr th:only-of-type {\n",
       "        vertical-align: middle;\n",
       "    }\n",
       "\n",
       "    .dataframe tbody tr th {\n",
       "        vertical-align: top;\n",
       "    }\n",
       "\n",
       "    .dataframe thead th {\n",
       "        text-align: right;\n",
       "    }\n",
       "</style>\n",
       "<table border=\"1\" class=\"dataframe\">\n",
       "  <thead>\n",
       "    <tr style=\"text-align: right;\">\n",
       "      <th></th>\n",
       "      <th>Station</th>\n",
       "      <th>Row Count</th>\n",
       "    </tr>\n",
       "  </thead>\n",
       "  <tbody>\n",
       "    <tr>\n",
       "      <th>6</th>\n",
       "      <td>USC00519281</td>\n",
       "      <td>2772</td>\n",
       "    </tr>\n",
       "    <tr>\n",
       "      <th>7</th>\n",
       "      <td>USC00519397</td>\n",
       "      <td>2724</td>\n",
       "    </tr>\n",
       "    <tr>\n",
       "      <th>1</th>\n",
       "      <td>USC00513117</td>\n",
       "      <td>2709</td>\n",
       "    </tr>\n",
       "    <tr>\n",
       "      <th>8</th>\n",
       "      <td>USC00519523</td>\n",
       "      <td>2669</td>\n",
       "    </tr>\n",
       "    <tr>\n",
       "      <th>3</th>\n",
       "      <td>USC00516128</td>\n",
       "      <td>2612</td>\n",
       "    </tr>\n",
       "    <tr>\n",
       "      <th>2</th>\n",
       "      <td>USC00514830</td>\n",
       "      <td>2202</td>\n",
       "    </tr>\n",
       "    <tr>\n",
       "      <th>0</th>\n",
       "      <td>USC00511918</td>\n",
       "      <td>1979</td>\n",
       "    </tr>\n",
       "    <tr>\n",
       "      <th>4</th>\n",
       "      <td>USC00517948</td>\n",
       "      <td>1372</td>\n",
       "    </tr>\n",
       "    <tr>\n",
       "      <th>5</th>\n",
       "      <td>USC00518838</td>\n",
       "      <td>511</td>\n",
       "    </tr>\n",
       "  </tbody>\n",
       "</table>\n",
       "</div>"
      ],
      "text/plain": [
       "       Station  Row Count\n",
       "6  USC00519281       2772\n",
       "7  USC00519397       2724\n",
       "1  USC00513117       2709\n",
       "8  USC00519523       2669\n",
       "3  USC00516128       2612\n",
       "2  USC00514830       2202\n",
       "0  USC00511918       1979\n",
       "4  USC00517948       1372\n",
       "5  USC00518838        511"
      ]
     },
     "execution_count": 13,
     "metadata": {},
     "output_type": "execute_result"
    }
   ],
   "source": [
    "# What are the most active stations? (i.e. what stations have the most rows)?\n",
    "# List the stations and the counts in descending order.\n",
    "\n",
    "# Separate the two columns we are interested in\n",
    "station = unique_stations['Station Key']\n",
    "count = unique_stations['index']\n",
    "\n",
    "# Create new dataframe to display data\n",
    "station_count_df = pd.DataFrame({'Station': station, 'Row Count': count})\n",
    "\n",
    "# Display data\n",
    "station_count_df.sort_values(by='Row Count', ascending=False)"
   ]
  },
  {
   "cell_type": "code",
   "execution_count": 14,
   "metadata": {},
   "outputs": [
    {
     "name": "stdout",
     "output_type": "stream",
     "text": [
      "The lowest temperature was: 54.0\n",
      "The highest temperature was: 85.0\n",
      "The average temperature was: 71.7\n"
     ]
    }
   ],
   "source": [
    "# Using the station id from the previous query, calculate the lowest temperature recorded, \n",
    "# highest temperature recorded, and average temperature of the most active station?\n",
    "\n",
    "# Filter dataframe for station USC00519281\n",
    "filter_station_df = station_df['Station'] == 'USC00519281'\n",
    "active_station_df = station_df[filter_station_df]\n",
    "active_station_df\n",
    "\n",
    "# Calculate lowest temperature recorded\n",
    "min_temp = active_station_df['Tobs'].min()\n",
    "\n",
    "# Print results\n",
    "print(f'The lowest temperature was: {min_temp}')\n",
    "\n",
    "# Calculate highest temperature recorded\n",
    "max_temp = active_station_df['Tobs'].max()\n",
    "\n",
    "# Print results\n",
    "print(f'The highest temperature was: {max_temp}')\n",
    "\n",
    "# Calculate average temperature recorded\n",
    "avg_temp = active_station_df['Tobs'].mean().round(1)\n",
    "\n",
    "# Print results\n",
    "print(f'The average temperature was: {avg_temp}')"
   ]
  },
  {
   "cell_type": "code",
   "execution_count": 15,
   "metadata": {},
   "outputs": [
    {
     "data": {
      "text/plain": [
       "Text(0, 0.5, 'Frequency')"
      ]
     },
     "execution_count": 15,
     "metadata": {},
     "output_type": "execute_result"
    },
    {
     "data": {
      "image/png": "[encoded data removed]",
      "text/plain": [
       "<Figure size 432x288 with 1 Axes>"
      ]
     },
     "metadata": {},
     "output_type": "display_data"
    }
   ],
   "source": [
    "# Choose the station with the highest number of temperature observations.\n",
    "# Query the last 12 months of temperature observation data for this station and plot the results as a histogram\n",
    "\n",
    "# Separate the two columns we are interested in\n",
    "station = unique_stations['Station Key']\n",
    "count = unique_stations['Tobs']\n",
    "\n",
    "# Create new dataframe to display data\n",
    "station_count_df = pd.DataFrame({'Station': station, 'Tobs Count': count})\n",
    "\n",
    "# Display data\n",
    "station_count_df.sort_values(by='Tobs Count', ascending=False)\n",
    "\n",
    "# Filter dataframe for station USC00511918\n",
    "filter_station_df = station_df['Station'] == 'USC00511918'\n",
    "temp_station_df = station_df[filter_station_df]\n",
    "temp_station_df\n",
    "\n",
    "# Convert date column to datetime format\n",
    "date = pd.to_datetime(temp_station_df['Date'])\n",
    "\n",
    "# Pull out other columns from dataframe\n",
    "name = temp_station_df['Name']\n",
    "station = temp_station_df['Station']\n",
    "tobs = temp_station_df['Tobs']\n",
    "\n",
    "# Create new dataframe with formatted date\n",
    "honolulu_df = pd.DataFrame({'Name': name, 'Station': station, 'Date': date, 'Temperature': tobs})\n",
    "honolulu_df\n",
    "\n",
    "# Find the latest date in the dataset\n",
    "max_date = honolulu_df['Date'].max()\n",
    "\n",
    "# Subtract a year from the latest date\n",
    "min_date = max_date - pd.DateOffset(years=1)\n",
    "\n",
    "\n",
    "# Filter for last 12 months\n",
    "date_filter = honolulu_df['Date'] >= min_date\n",
    "filtered_dates_df = honolulu_df[date_filter]\n",
    "filtered_dates_df\n",
    "\n",
    "# Plot the results as a histogram\n",
    "filtered_dates_df.hist(bins=12)\n",
    "plt.title('')\n",
    "plt.xlabel('Temperature')\n",
    "plt.ylabel('Frequency')"
   ]
  },
  {
   "cell_type": "markdown",
   "metadata": {},
   "source": [
    "## Bonus Challenge Assignment"
   ]
  },
  {
   "cell_type": "code",
   "execution_count": null,
   "metadata": {},
   "outputs": [],
   "source": [
    "# This function called `calc_temps` will accept start date and end date in the format '%Y-%m-%d' \n",
    "# and return the minimum, average, and maximum temperatures for that range of dates\n",
    "def calc_temps(start_date, end_date):\n",
    "    \"\"\"TMIN, TAVG, and TMAX for a list of dates.\n",
    "    \n",
    "    Args:\n",
    "        start_date (string): A date string in the format %Y-%m-%d\n",
    "        end_date (string): A date string in the format %Y-%m-%d\n",
    "        \n",
    "    Returns:\n",
    "        TMIN, TAVE, and TMAX\n",
    "    \"\"\"\n",
    "    \n",
    "    return session.query(func.min(Measurement.tobs), func.avg(Measurement.tobs), func.max(Measurement.tobs)).\\\n",
    "        filter(Measurement.date >= start_date).filter(Measurement.date <= end_date).all()\n",
    "\n",
    "# function usage example\n",
    "print(calc_temps('2012-02-28', '2012-03-05'))"
   ]
  },
  {
   "cell_type": "code",
   "execution_count": null,
   "metadata": {},
   "outputs": [],
   "source": [
    "# Use your previous function `calc_temps` to calculate the tmin, tavg, and tmax \n",
    "# for your trip using the previous year's data for those same dates.\n"
   ]
  },
  {
   "cell_type": "code",
   "execution_count": null,
   "metadata": {},
   "outputs": [],
   "source": [
    "# Plot the results from your previous query as a bar chart. \n",
    "# Use \"Trip Avg Temp\" as your Title\n",
    "# Use the average temperature for the y value\n",
    "# Use the peak-to-peak (tmax-tmin) value as the y error bar (yerr)\n"
   ]
  },
  {
   "cell_type": "code",
   "execution_count": null,
   "metadata": {},
   "outputs": [],
   "source": [
    "# Calculate the total amount of rainfall per weather station for your trip dates using the previous year's matching dates.\n",
    "# Sort this in descending order by precipitation amount and list the station, name, latitude, longitude, and elevation\n",
    "\n"
   ]
  },
  {
   "cell_type": "code",
   "execution_count": null,
   "metadata": {},
   "outputs": [],
   "source": [
    "# Create a query that will calculate the daily normals \n",
    "# (i.e. the averages for tmin, tmax, and tavg for all historic data matching a specific month and day)\n",
    "\n",
    "def daily_normals(date):\n",
    "    \"\"\"Daily Normals.\n",
    "    \n",
    "    Args:\n",
    "        date (str): A date string in the format '%m-%d'\n",
    "        \n",
    "    Returns:\n",
    "        A list of tuples containing the daily normals, tmin, tavg, and tmax\n",
    "    \n",
    "    \"\"\"\n",
    "    \n",
    "    sel = [func.min(Measurement.tobs), func.avg(Measurement.tobs), func.max(Measurement.tobs)]\n",
    "    return session.query(*sel).filter(func.strftime(\"%m-%d\", Measurement.date) == date).all()\n",
    "    \n",
    "daily_normals(\"01-01\")"
   ]
  },
  {
   "cell_type": "code",
   "execution_count": null,
   "metadata": {},
   "outputs": [],
   "source": [
    "# calculate the daily normals for your trip\n",
    "# push each tuple of calculations into a list called `normals`\n",
    "\n",
    "# Set the start and end date of the trip\n",
    "\n",
    "# Use the start and end date to create a range of dates\n",
    "\n",
    "# Stip off the year and save a list of %m-%d strings\n",
    "\n",
    "# Loop through the list of %m-%d strings and calculate the normals for each date\n"
   ]
  },
  {
   "cell_type": "code",
   "execution_count": null,
   "metadata": {},
   "outputs": [],
   "source": [
    "# Load the previous query results into a Pandas DataFrame and add the `trip_dates` range as the `date` index\n"
   ]
  },
  {
   "cell_type": "code",
   "execution_count": null,
   "metadata": {},
   "outputs": [],
   "source": [
    "# Plot the daily normals as an area plot with `stacked=False`\n"
   ]
  }
 ],
 "metadata": {
  "kernel_info": {
   "name": "python3"
  },
  "kernelspec": {
   "display_name": "Python 3",
   "language": "python",
   "name": "python3"
  },
  "language_info": {
   "codemirror_mode": {
    "name": "ipython",
    "version": 3
   },
   "file_extension": ".py",
   "mimetype": "text/x-python",
   "name": "python",
   "nbconvert_exporter": "python",
   "pygments_lexer": "ipython3",
   "version": "3.6.10"
  },
  "nteract": {
   "version": "0.12.3"
  },
  "varInspector": {
   "cols": {
    "lenName": 16,
    "lenType": 16,
    "lenVar": 40
   },
   "kernels_config": {
    "python": {
     "delete_cmd_postfix": "",
     "delete_cmd_prefix": "del ",
     "library": "var_list.py",
     "varRefreshCmd": "print(var_dic_list())"
    },
    "r": {
     "delete_cmd_postfix": ") ",
     "delete_cmd_prefix": "rm(",
     "library": "var_list.r",
     "varRefreshCmd": "cat(var_dic_list()) "
    }
   },
   "types_to_exclude": [
    "module",
    "function",
    "builtin_function_or_method",
    "instance",
    "_Feature"
   ],
   "window_display": false
  }
 },
 "nbformat": 4,
 "nbformat_minor": 2
}
